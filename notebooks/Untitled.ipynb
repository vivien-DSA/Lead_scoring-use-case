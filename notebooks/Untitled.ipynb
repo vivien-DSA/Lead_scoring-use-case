{
 "cells": [
  {
   "cell_type": "markdown",
   "id": "aboriginal-movie",
   "metadata": {},
   "source": [
    "**Predictive Lead Scoring**"
   ]
  },
  {
   "cell_type": "markdown",
   "id": "constitutional-action",
   "metadata": {},
   "source": [
    "# import useful libraries and Load the data"
   ]
  },
  {
   "cell_type": "code",
   "execution_count": 7,
   "id": "british-gossip",
   "metadata": {},
   "outputs": [],
   "source": [
    "import sys\n",
    "import pandas as pd\n",
    "import matplotlib.pyplot as plt\n",
    "import numpy as np\n",
    "from pathlib import Path"
   ]
  },
  {
   "cell_type": "code",
   "execution_count": 10,
   "id": "sublime-portable",
   "metadata": {},
   "outputs": [],
   "source": [
    "sys.path.append(\"..\")\n",
    "data_dir = Path('../data/') \n",
    "modules_dir = Path('../modules/')"
   ]
  },
  {
   "cell_type": "markdown",
   "id": "banned-paradise",
   "metadata": {},
   "source": [
    "> The dataset: https://www.kaggle.com/arashnic/banking-loan-prediction\n",
    "\n",
    "**The content of the dataset**\n",
    "- ID : Unique Customer ID\n",
    "- Gender : Gender of the applicant\n",
    "- DOB : Date of Birth of the applicant\n",
    "- LeadCreationDate : Date on which Lead was created\n",
    "- City_Code : Anonymised Code for the City\n",
    "- City_Category: Anonymised City Feature\n",
    "- Employer_Code: Anonymised Code for the Employer\n",
    "- Employer_Category1 : Anonymised Employer Feature\n",
    "- Employer_Category2: Anonymised Employer Feature\n",
    "- Monthly_Income : Monthly Income in Dollars\n",
    "- CustomerExistingPrimaryBankCode : Anonymised Customer Bank Code\n",
    "- PrimaryBankType: Anonymised Bank Feature\n",
    "- Contacted: Contact Verified (Y/N)\n",
    "- Source : Categorical Variable representing source of lead\n",
    "- Source_Category: Type of Source\n",
    "- Existing_EMI : EMI of Existing Loans in Dollars\n",
    "- Loan_Amount: Loan Amount Requested\n",
    "- Loan_Period: Loan Period (Years)\n",
    "- Interest_Rate: Interest Rate of Submitted Loan Amount\n",
    "- EMI: EMI of Requested Loan Amount in dollars\n",
    "- Var1: Anonymized Categorical variable with multiple levels\n",
    "- Approved: (Target) Whether a loan is Approved or not (1-0) . Customer is Qualified Lead or not (1-0)"
   ]
  },
  {
   "cell_type": "code",
   "execution_count": 11,
   "id": "surprising-hurricane",
   "metadata": {},
   "outputs": [],
   "source": [
    "train = pd.read_csv(data_dir/'train.csv')"
   ]
  },
  {
   "cell_type": "code",
   "execution_count": 12,
   "id": "smoking-change",
   "metadata": {},
   "outputs": [],
   "source": [
    "test = pd.read_csv(data_dir/'test.csv')"
   ]
  },
  {
   "cell_type": "markdown",
   "id": "spoken-standing",
   "metadata": {},
   "source": [
    "# Data Wrangling"
   ]
  },
  {
   "cell_type": "markdown",
   "id": "prescribed-supplier",
   "metadata": {},
   "source": [
    "## Data exploring"
   ]
  },
  {
   "cell_type": "markdown",
   "id": "twelve-sodium",
   "metadata": {},
   "source": [
    "**samples**"
   ]
  },
  {
   "cell_type": "code",
   "execution_count": 13,
   "id": "constitutional-trader",
   "metadata": {},
   "outputs": [
    {
     "data": {
      "text/html": [
       "<div>\n",
       "<style scoped>\n",
       "    .dataframe tbody tr th:only-of-type {\n",
       "        vertical-align: middle;\n",
       "    }\n",
       "\n",
       "    .dataframe tbody tr th {\n",
       "        vertical-align: top;\n",
       "    }\n",
       "\n",
       "    .dataframe thead th {\n",
       "        text-align: right;\n",
       "    }\n",
       "</style>\n",
       "<table border=\"1\" class=\"dataframe\">\n",
       "  <thead>\n",
       "    <tr style=\"text-align: right;\">\n",
       "      <th></th>\n",
       "      <th>ID</th>\n",
       "      <th>Gender</th>\n",
       "      <th>DOB</th>\n",
       "      <th>Lead_Creation_Date</th>\n",
       "      <th>City_Code</th>\n",
       "      <th>City_Category</th>\n",
       "      <th>Employer_Code</th>\n",
       "      <th>Employer_Category1</th>\n",
       "      <th>Employer_Category2</th>\n",
       "      <th>Monthly_Income</th>\n",
       "      <th>...</th>\n",
       "      <th>Contacted</th>\n",
       "      <th>Source</th>\n",
       "      <th>Source_Category</th>\n",
       "      <th>Existing_EMI</th>\n",
       "      <th>Loan_Amount</th>\n",
       "      <th>Loan_Period</th>\n",
       "      <th>Interest_Rate</th>\n",
       "      <th>EMI</th>\n",
       "      <th>Var1</th>\n",
       "      <th>Approved</th>\n",
       "    </tr>\n",
       "  </thead>\n",
       "  <tbody>\n",
       "    <tr>\n",
       "      <th>5100</th>\n",
       "      <td>APPQ80212315421</td>\n",
       "      <td>Female</td>\n",
       "      <td>21/10/90</td>\n",
       "      <td>08/07/16</td>\n",
       "      <td>C10001</td>\n",
       "      <td>A</td>\n",
       "      <td>COM0005577</td>\n",
       "      <td>B</td>\n",
       "      <td>4.0</td>\n",
       "      <td>1057.7</td>\n",
       "      <td>...</td>\n",
       "      <td>N</td>\n",
       "      <td>S143</td>\n",
       "      <td>B</td>\n",
       "      <td>0.0</td>\n",
       "      <td>NaN</td>\n",
       "      <td>NaN</td>\n",
       "      <td>NaN</td>\n",
       "      <td>NaN</td>\n",
       "      <td>0</td>\n",
       "      <td>0</td>\n",
       "    </tr>\n",
       "    <tr>\n",
       "      <th>47282</th>\n",
       "      <td>APPB90149643513</td>\n",
       "      <td>Male</td>\n",
       "      <td>01/03/93</td>\n",
       "      <td>03/09/16</td>\n",
       "      <td>C10003</td>\n",
       "      <td>A</td>\n",
       "      <td>COM0048528</td>\n",
       "      <td>B</td>\n",
       "      <td>4.0</td>\n",
       "      <td>1718.3</td>\n",
       "      <td>...</td>\n",
       "      <td>Y</td>\n",
       "      <td>S122</td>\n",
       "      <td>G</td>\n",
       "      <td>240.7</td>\n",
       "      <td>20000.0</td>\n",
       "      <td>3.0</td>\n",
       "      <td>18.25</td>\n",
       "      <td>726.0</td>\n",
       "      <td>2</td>\n",
       "      <td>0</td>\n",
       "    </tr>\n",
       "    <tr>\n",
       "      <th>17660</th>\n",
       "      <td>APPF30256077949</td>\n",
       "      <td>Female</td>\n",
       "      <td>02/08/93</td>\n",
       "      <td>26/07/16</td>\n",
       "      <td>C10002</td>\n",
       "      <td>A</td>\n",
       "      <td>COM0000396</td>\n",
       "      <td>C</td>\n",
       "      <td>4.0</td>\n",
       "      <td>1500.0</td>\n",
       "      <td>...</td>\n",
       "      <td>N</td>\n",
       "      <td>S159</td>\n",
       "      <td>B</td>\n",
       "      <td>1000.0</td>\n",
       "      <td>NaN</td>\n",
       "      <td>NaN</td>\n",
       "      <td>NaN</td>\n",
       "      <td>NaN</td>\n",
       "      <td>0</td>\n",
       "      <td>0</td>\n",
       "    </tr>\n",
       "  </tbody>\n",
       "</table>\n",
       "<p>3 rows × 22 columns</p>\n",
       "</div>"
      ],
      "text/plain": [
       "                    ID  Gender       DOB Lead_Creation_Date City_Code  \\\n",
       "5100   APPQ80212315421  Female  21/10/90           08/07/16    C10001   \n",
       "47282  APPB90149643513    Male  01/03/93           03/09/16    C10003   \n",
       "17660  APPF30256077949  Female  02/08/93           26/07/16    C10002   \n",
       "\n",
       "      City_Category Employer_Code Employer_Category1  Employer_Category2  \\\n",
       "5100              A    COM0005577                  B                 4.0   \n",
       "47282             A    COM0048528                  B                 4.0   \n",
       "17660             A    COM0000396                  C                 4.0   \n",
       "\n",
       "       Monthly_Income  ... Contacted Source Source_Category Existing_EMI  \\\n",
       "5100           1057.7  ...         N   S143               B          0.0   \n",
       "47282          1718.3  ...         Y   S122               G        240.7   \n",
       "17660          1500.0  ...         N   S159               B       1000.0   \n",
       "\n",
       "      Loan_Amount  Loan_Period  Interest_Rate    EMI  Var1  Approved  \n",
       "5100          NaN          NaN            NaN    NaN     0         0  \n",
       "47282     20000.0          3.0          18.25  726.0     2         0  \n",
       "17660         NaN          NaN            NaN    NaN     0         0  \n",
       "\n",
       "[3 rows x 22 columns]"
      ]
     },
     "execution_count": 13,
     "metadata": {},
     "output_type": "execute_result"
    }
   ],
   "source": [
    "train.sample(3)"
   ]
  },
  {
   "cell_type": "code",
   "execution_count": 14,
   "id": "controversial-integration",
   "metadata": {},
   "outputs": [
    {
     "data": {
      "text/html": [
       "<div>\n",
       "<style scoped>\n",
       "    .dataframe tbody tr th:only-of-type {\n",
       "        vertical-align: middle;\n",
       "    }\n",
       "\n",
       "    .dataframe tbody tr th {\n",
       "        vertical-align: top;\n",
       "    }\n",
       "\n",
       "    .dataframe thead th {\n",
       "        text-align: right;\n",
       "    }\n",
       "</style>\n",
       "<table border=\"1\" class=\"dataframe\">\n",
       "  <thead>\n",
       "    <tr style=\"text-align: right;\">\n",
       "      <th></th>\n",
       "      <th>ID</th>\n",
       "      <th>Gender</th>\n",
       "      <th>DOB</th>\n",
       "      <th>Lead_Creation_Date</th>\n",
       "      <th>City_Code</th>\n",
       "      <th>City_Category</th>\n",
       "      <th>Employer_Code</th>\n",
       "      <th>Employer_Category1</th>\n",
       "      <th>Employer_Category2</th>\n",
       "      <th>Monthly_Income</th>\n",
       "      <th>...</th>\n",
       "      <th>Primary_Bank_Type</th>\n",
       "      <th>Contacted</th>\n",
       "      <th>Source</th>\n",
       "      <th>Source_Category</th>\n",
       "      <th>Existing_EMI</th>\n",
       "      <th>Loan_Amount</th>\n",
       "      <th>Loan_Period</th>\n",
       "      <th>Interest_Rate</th>\n",
       "      <th>EMI</th>\n",
       "      <th>Var1</th>\n",
       "    </tr>\n",
       "  </thead>\n",
       "  <tbody>\n",
       "    <tr>\n",
       "      <th>18949</th>\n",
       "      <td>APPN60172341115</td>\n",
       "      <td>Male</td>\n",
       "      <td>05/12/62</td>\n",
       "      <td>22/08/16</td>\n",
       "      <td>C10037</td>\n",
       "      <td>B</td>\n",
       "      <td>COM0007477</td>\n",
       "      <td>A</td>\n",
       "      <td>4.0</td>\n",
       "      <td>2300.0</td>\n",
       "      <td>...</td>\n",
       "      <td>P</td>\n",
       "      <td>Y</td>\n",
       "      <td>S133</td>\n",
       "      <td>B</td>\n",
       "      <td>0.0</td>\n",
       "      <td>10000.0</td>\n",
       "      <td>3.0</td>\n",
       "      <td>20.0</td>\n",
       "      <td>372.0</td>\n",
       "      <td>2</td>\n",
       "    </tr>\n",
       "    <tr>\n",
       "      <th>8277</th>\n",
       "      <td>APPZ10734018529</td>\n",
       "      <td>Male</td>\n",
       "      <td>12/04/89</td>\n",
       "      <td>08/07/16</td>\n",
       "      <td>C10004</td>\n",
       "      <td>A</td>\n",
       "      <td>COM0012758</td>\n",
       "      <td>B</td>\n",
       "      <td>4.0</td>\n",
       "      <td>2000.0</td>\n",
       "      <td>...</td>\n",
       "      <td>G</td>\n",
       "      <td>Y</td>\n",
       "      <td>S133</td>\n",
       "      <td>B</td>\n",
       "      <td>0.0</td>\n",
       "      <td>22000.0</td>\n",
       "      <td>3.0</td>\n",
       "      <td>20.0</td>\n",
       "      <td>818.0</td>\n",
       "      <td>4</td>\n",
       "    </tr>\n",
       "    <tr>\n",
       "      <th>17831</th>\n",
       "      <td>APPQ80997874023</td>\n",
       "      <td>Female</td>\n",
       "      <td>15/12/81</td>\n",
       "      <td>17/08/16</td>\n",
       "      <td>C10006</td>\n",
       "      <td>A</td>\n",
       "      <td>COM0050172</td>\n",
       "      <td>B</td>\n",
       "      <td>4.0</td>\n",
       "      <td>2700.0</td>\n",
       "      <td>...</td>\n",
       "      <td>P</td>\n",
       "      <td>N</td>\n",
       "      <td>S133</td>\n",
       "      <td>B</td>\n",
       "      <td>1300.0</td>\n",
       "      <td>NaN</td>\n",
       "      <td>NaN</td>\n",
       "      <td>NaN</td>\n",
       "      <td>NaN</td>\n",
       "      <td>0</td>\n",
       "    </tr>\n",
       "  </tbody>\n",
       "</table>\n",
       "<p>3 rows × 21 columns</p>\n",
       "</div>"
      ],
      "text/plain": [
       "                    ID  Gender       DOB Lead_Creation_Date City_Code  \\\n",
       "18949  APPN60172341115    Male  05/12/62           22/08/16    C10037   \n",
       "8277   APPZ10734018529    Male  12/04/89           08/07/16    C10004   \n",
       "17831  APPQ80997874023  Female  15/12/81           17/08/16    C10006   \n",
       "\n",
       "      City_Category Employer_Code Employer_Category1  Employer_Category2  \\\n",
       "18949             B    COM0007477                  A                 4.0   \n",
       "8277              A    COM0012758                  B                 4.0   \n",
       "17831             A    COM0050172                  B                 4.0   \n",
       "\n",
       "       Monthly_Income  ... Primary_Bank_Type Contacted Source Source_Category  \\\n",
       "18949          2300.0  ...                 P         Y   S133               B   \n",
       "8277           2000.0  ...                 G         Y   S133               B   \n",
       "17831          2700.0  ...                 P         N   S133               B   \n",
       "\n",
       "      Existing_EMI  Loan_Amount  Loan_Period  Interest_Rate    EMI  Var1  \n",
       "18949          0.0      10000.0          3.0           20.0  372.0     2  \n",
       "8277           0.0      22000.0          3.0           20.0  818.0     4  \n",
       "17831       1300.0          NaN          NaN            NaN    NaN     0  \n",
       "\n",
       "[3 rows x 21 columns]"
      ]
     },
     "execution_count": 14,
     "metadata": {},
     "output_type": "execute_result"
    }
   ],
   "source": [
    "test.sample(3)"
   ]
  },
  {
   "cell_type": "markdown",
   "id": "toxic-disclosure",
   "metadata": {},
   "source": [
    "**target and features**"
   ]
  },
  {
   "cell_type": "markdown",
   "id": "alpha-differential",
   "metadata": {},
   "source": [
    "- Our target is the column **Approved** from the train table: it consists of 0 if the loan default exist and the loan is not approved and 1 if not.\n",
    "- The remaining columns 21 will be considered as features and after a statistical analysis we will selected only the best ones."
   ]
  },
  {
   "cell_type": "markdown",
   "id": "endangered-commons",
   "metadata": {},
   "source": [
    "**size and shape**"
   ]
  },
  {
   "cell_type": "code",
   "execution_count": 23,
   "id": "regulated-offering",
   "metadata": {},
   "outputs": [
    {
     "data": {
      "text/plain": [
       "(69713, 22)"
      ]
     },
     "execution_count": 23,
     "metadata": {},
     "output_type": "execute_result"
    }
   ],
   "source": [
    "train.shape"
   ]
  },
  {
   "cell_type": "code",
   "execution_count": 24,
   "id": "multiple-overall",
   "metadata": {},
   "outputs": [
    {
     "data": {
      "text/plain": [
       "(30037, 21)"
      ]
     },
     "execution_count": 24,
     "metadata": {},
     "output_type": "execute_result"
    }
   ],
   "source": [
    "test.shape"
   ]
  },
  {
   "cell_type": "markdown",
   "id": "alpha-fellowship",
   "metadata": {},
   "source": [
    "> Let us perform all our operation on train data and create a modular code for the test dataset and futures tests "
   ]
  },
  {
   "cell_type": "markdown",
   "id": "blond-environment",
   "metadata": {},
   "source": [
    "**missing values and types of columns**"
   ]
  },
  {
   "cell_type": "code",
   "execution_count": 27,
   "id": "arranged-cement",
   "metadata": {},
   "outputs": [
    {
     "name": "stdout",
     "output_type": "stream",
     "text": [
      "<class 'pandas.core.frame.DataFrame'>\n",
      "RangeIndex: 69713 entries, 0 to 69712\n",
      "Data columns (total 22 columns):\n",
      " #   Column                               Non-Null Count  Dtype  \n",
      "---  ------                               --------------  -----  \n",
      " 0   ID                                   69713 non-null  object \n",
      " 1   Gender                               69713 non-null  object \n",
      " 2   DOB                                  69698 non-null  object \n",
      " 3   Lead_Creation_Date                   69713 non-null  object \n",
      " 4   City_Code                            68899 non-null  object \n",
      " 5   City_Category                        68899 non-null  object \n",
      " 6   Employer_Code                        65695 non-null  object \n",
      " 7   Employer_Category1                   65695 non-null  object \n",
      " 8   Employer_Category2                   65415 non-null  float64\n",
      " 9   Monthly_Income                       69713 non-null  float64\n",
      " 10  Customer_Existing_Primary_Bank_Code  60322 non-null  object \n",
      " 11  Primary_Bank_Type                    60322 non-null  object \n",
      " 12  Contacted                            69713 non-null  object \n",
      " 13  Source                               69713 non-null  object \n",
      " 14  Source_Category                      69713 non-null  object \n",
      " 15  Existing_EMI                         69662 non-null  float64\n",
      " 16  Loan_Amount                          42004 non-null  float64\n",
      " 17  Loan_Period                          42004 non-null  float64\n",
      " 18  Interest_Rate                        22276 non-null  float64\n",
      " 19  EMI                                  22276 non-null  float64\n",
      " 20  Var1                                 69713 non-null  int64  \n",
      " 21  Approved                             69713 non-null  int64  \n",
      "dtypes: float64(7), int64(2), object(13)\n",
      "memory usage: 11.7+ MB\n"
     ]
    }
   ],
   "source": [
    "train.info()"
   ]
  },
  {
   "cell_type": "markdown",
   "id": "incorporate-photographer",
   "metadata": {},
   "source": [
    "> This helps us understand the data columns: 22\n",
    ">- the DOB and Lead_creation_date are in wrong format : they should be datetime\n",
    ">- Multiple columns have null values even if we are lucky to have all our target."
   ]
  },
  {
   "cell_type": "markdown",
   "id": "subject-truck",
   "metadata": {},
   "source": [
    "**number of unique values**"
   ]
  },
  {
   "cell_type": "code",
   "execution_count": 32,
   "id": "opening-rabbit",
   "metadata": {},
   "outputs": [
    {
     "data": {
      "text/plain": [
       "Approved                                   2\n",
       "Gender                                     2\n",
       "Contacted                                  2\n",
       "Primary_Bank_Type                          2\n",
       "City_Category                              3\n",
       "Employer_Category1                         3\n",
       "Employer_Category2                         4\n",
       "Var1                                       5\n",
       "Loan_Period                                6\n",
       "Source_Category                            7\n",
       "Source                                    29\n",
       "Customer_Existing_Primary_Bank_Code       57\n",
       "Interest_Rate                             72\n",
       "Lead_Creation_Date                        92\n",
       "Loan_Amount                              196\n",
       "City_Code                                678\n",
       "EMI                                     2179\n",
       "Existing_EMI                            3245\n",
       "Monthly_Income                          5010\n",
       "DOB                                    10759\n",
       "Employer_Code                          36617\n",
       "ID                                     69713\n",
       "dtype: int64"
      ]
     },
     "execution_count": 32,
     "metadata": {},
     "output_type": "execute_result"
    }
   ],
   "source": [
    "train.nunique().sort_values()"
   ]
  },
  {
   "cell_type": "markdown",
   "id": "common-kitty",
   "metadata": {},
   "source": [
    "> We can observe that almost all variable are Categorical because they have less unique values"
   ]
  },
  {
   "cell_type": "markdown",
   "id": "substantial-sculpture",
   "metadata": {},
   "source": [
    "## Data Cleaning"
   ]
  },
  {
   "cell_type": "code",
   "execution_count": null,
   "id": "occasional-thesaurus",
   "metadata": {},
   "outputs": [],
   "source": []
  }
 ],
 "metadata": {
  "kernelspec": {
   "display_name": "Python 3",
   "language": "python",
   "name": "python3"
  },
  "language_info": {
   "codemirror_mode": {
    "name": "ipython",
    "version": 3
   },
   "file_extension": ".py",
   "mimetype": "text/x-python",
   "name": "python",
   "nbconvert_exporter": "python",
   "pygments_lexer": "ipython3",
   "version": "3.9.2"
  }
 },
 "nbformat": 4,
 "nbformat_minor": 5
}
