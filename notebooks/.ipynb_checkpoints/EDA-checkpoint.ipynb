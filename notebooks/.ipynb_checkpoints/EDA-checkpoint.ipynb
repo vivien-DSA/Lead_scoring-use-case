{
 "cells": [
  {
   "cell_type": "markdown",
   "id": "analyzed-highlight",
   "metadata": {},
   "source": [
    "**Predictive Lead Scoring**"
   ]
  },
  {
   "cell_type": "markdown",
   "id": "cheap-start",
   "metadata": {},
   "source": [
    "# import useful libraries and Load the data"
   ]
  },
  {
   "cell_type": "code",
   "execution_count": 1,
   "id": "printable-planning",
   "metadata": {},
   "outputs": [],
   "source": [
    "import sys\n",
    "import pandas as pd\n",
    "import matplotlib.pyplot as plt\n",
    "import numpy as np\n",
    "from pathlib import Path"
   ]
  },
  {
   "cell_type": "code",
   "execution_count": 2,
   "id": "dimensional-wrapping",
   "metadata": {},
   "outputs": [],
   "source": [
    "sys.path.append(\"..\")\n",
    "data_dir = Path('../data/') \n",
    "modules_dir = Path('../modules/')"
   ]
  },
  {
   "cell_type": "markdown",
   "id": "dutch-design",
   "metadata": {},
   "source": [
    "> The dataset: https://www.kaggle.com/arashnic/banking-loan-prediction\n",
    "\n",
    "**The content of the dataset**\n",
    "- ID : Unique Customer ID\n",
    "- Gender : Gender of the applicant\n",
    "- DOB : Date of Birth of the applicant\n",
    "- LeadCreationDate : Date on which Lead was created\n",
    "- City_Code : Anonymised Code for the City\n",
    "- City_Category: Anonymised City Feature\n",
    "- Employer_Code: Anonymised Code for the Employer\n",
    "- Employer_Category1 : Anonymised Employer Feature\n",
    "- Employer_Category2: Anonymised Employer Feature\n",
    "- Monthly_Income : Monthly Income in Dollars\n",
    "- CustomerExistingPrimaryBankCode : Anonymised Customer Bank Code\n",
    "- PrimaryBankType: Anonymised Bank Feature\n",
    "- Contacted: Contact Verified (Y/N)\n",
    "- Source : Categorical Variable representing source of lead\n",
    "- Source_Category: Type of Source\n",
    "- Existing_EMI : EMI of Existing Loans in Dollars\n",
    "- Loan_Amount: Loan Amount Requested\n",
    "- Loan_Period: Loan Period (Years)\n",
    "- Interest_Rate: Interest Rate of Submitted Loan Amount\n",
    "- EMI: EMI of Requested Loan Amount in dollars\n",
    "- Var1: Anonymized Categorical variable with multiple levels\n",
    "- Approved: (Target) Whether a loan is Approved or not (1-0) . Customer is Qualified Lead or not (1-0)"
   ]
  },
  {
   "cell_type": "code",
   "execution_count": 3,
   "id": "informational-collection",
   "metadata": {},
   "outputs": [],
   "source": [
    "train = pd.read_csv(data_dir/'train.csv')"
   ]
  },
  {
   "cell_type": "code",
   "execution_count": 4,
   "id": "minute-stylus",
   "metadata": {},
   "outputs": [],
   "source": [
    "test = pd.read_csv(data_dir/'test.csv')"
   ]
  },
  {
   "cell_type": "markdown",
   "id": "aerial-corps",
   "metadata": {},
   "source": [
    "# Data Wrangling"
   ]
  },
  {
   "cell_type": "markdown",
   "id": "athletic-stream",
   "metadata": {},
   "source": [
    "## Data exploring"
   ]
  },
  {
   "cell_type": "markdown",
   "id": "comparable-balance",
   "metadata": {},
   "source": [
    "**samples**"
   ]
  },
  {
   "cell_type": "code",
   "execution_count": 5,
   "id": "double-blake",
   "metadata": {},
   "outputs": [
    {
     "data": {
      "text/html": [
       "<div>\n",
       "<style scoped>\n",
       "    .dataframe tbody tr th:only-of-type {\n",
       "        vertical-align: middle;\n",
       "    }\n",
       "\n",
       "    .dataframe tbody tr th {\n",
       "        vertical-align: top;\n",
       "    }\n",
       "\n",
       "    .dataframe thead th {\n",
       "        text-align: right;\n",
       "    }\n",
       "</style>\n",
       "<table border=\"1\" class=\"dataframe\">\n",
       "  <thead>\n",
       "    <tr style=\"text-align: right;\">\n",
       "      <th></th>\n",
       "      <th>ID</th>\n",
       "      <th>Gender</th>\n",
       "      <th>DOB</th>\n",
       "      <th>Lead_Creation_Date</th>\n",
       "      <th>City_Code</th>\n",
       "      <th>City_Category</th>\n",
       "      <th>Employer_Code</th>\n",
       "      <th>Employer_Category1</th>\n",
       "      <th>Employer_Category2</th>\n",
       "      <th>Monthly_Income</th>\n",
       "      <th>...</th>\n",
       "      <th>Contacted</th>\n",
       "      <th>Source</th>\n",
       "      <th>Source_Category</th>\n",
       "      <th>Existing_EMI</th>\n",
       "      <th>Loan_Amount</th>\n",
       "      <th>Loan_Period</th>\n",
       "      <th>Interest_Rate</th>\n",
       "      <th>EMI</th>\n",
       "      <th>Var1</th>\n",
       "      <th>Approved</th>\n",
       "    </tr>\n",
       "  </thead>\n",
       "  <tbody>\n",
       "    <tr>\n",
       "      <th>64177</th>\n",
       "      <td>APPV20435377141</td>\n",
       "      <td>Female</td>\n",
       "      <td>21/03/79</td>\n",
       "      <td>24/09/16</td>\n",
       "      <td>C10005</td>\n",
       "      <td>A</td>\n",
       "      <td>COM0003290</td>\n",
       "      <td>C</td>\n",
       "      <td>4.0</td>\n",
       "      <td>2100.0</td>\n",
       "      <td>...</td>\n",
       "      <td>Y</td>\n",
       "      <td>S122</td>\n",
       "      <td>G</td>\n",
       "      <td>0.0</td>\n",
       "      <td>35000.0</td>\n",
       "      <td>4.0</td>\n",
       "      <td>NaN</td>\n",
       "      <td>NaN</td>\n",
       "      <td>2</td>\n",
       "      <td>0</td>\n",
       "    </tr>\n",
       "    <tr>\n",
       "      <th>9343</th>\n",
       "      <td>APPN70416965118</td>\n",
       "      <td>Male</td>\n",
       "      <td>02/02/85</td>\n",
       "      <td>14/07/16</td>\n",
       "      <td>C10003</td>\n",
       "      <td>A</td>\n",
       "      <td>COM0000028</td>\n",
       "      <td>B</td>\n",
       "      <td>3.0</td>\n",
       "      <td>3400.0</td>\n",
       "      <td>...</td>\n",
       "      <td>Y</td>\n",
       "      <td>S133</td>\n",
       "      <td>C</td>\n",
       "      <td>0.0</td>\n",
       "      <td>40000.0</td>\n",
       "      <td>3.0</td>\n",
       "      <td>NaN</td>\n",
       "      <td>NaN</td>\n",
       "      <td>7</td>\n",
       "      <td>0</td>\n",
       "    </tr>\n",
       "    <tr>\n",
       "      <th>35782</th>\n",
       "      <td>APPS80884347811</td>\n",
       "      <td>Female</td>\n",
       "      <td>06/03/91</td>\n",
       "      <td>21/08/16</td>\n",
       "      <td>C10010</td>\n",
       "      <td>A</td>\n",
       "      <td>COM0035676</td>\n",
       "      <td>A</td>\n",
       "      <td>4.0</td>\n",
       "      <td>3300.0</td>\n",
       "      <td>...</td>\n",
       "      <td>Y</td>\n",
       "      <td>S143</td>\n",
       "      <td>C</td>\n",
       "      <td>0.0</td>\n",
       "      <td>57000.0</td>\n",
       "      <td>4.0</td>\n",
       "      <td>NaN</td>\n",
       "      <td>NaN</td>\n",
       "      <td>7</td>\n",
       "      <td>0</td>\n",
       "    </tr>\n",
       "  </tbody>\n",
       "</table>\n",
       "<p>3 rows × 22 columns</p>\n",
       "</div>"
      ],
      "text/plain": [
       "                    ID  Gender       DOB Lead_Creation_Date City_Code  \\\n",
       "64177  APPV20435377141  Female  21/03/79           24/09/16    C10005   \n",
       "9343   APPN70416965118    Male  02/02/85           14/07/16    C10003   \n",
       "35782  APPS80884347811  Female  06/03/91           21/08/16    C10010   \n",
       "\n",
       "      City_Category Employer_Code Employer_Category1  Employer_Category2  \\\n",
       "64177             A    COM0003290                  C                 4.0   \n",
       "9343              A    COM0000028                  B                 3.0   \n",
       "35782             A    COM0035676                  A                 4.0   \n",
       "\n",
       "       Monthly_Income  ... Contacted Source Source_Category Existing_EMI  \\\n",
       "64177          2100.0  ...         Y   S122               G          0.0   \n",
       "9343           3400.0  ...         Y   S133               C          0.0   \n",
       "35782          3300.0  ...         Y   S143               C          0.0   \n",
       "\n",
       "      Loan_Amount  Loan_Period  Interest_Rate  EMI  Var1  Approved  \n",
       "64177     35000.0          4.0            NaN  NaN     2         0  \n",
       "9343      40000.0          3.0            NaN  NaN     7         0  \n",
       "35782     57000.0          4.0            NaN  NaN     7         0  \n",
       "\n",
       "[3 rows x 22 columns]"
      ]
     },
     "execution_count": 5,
     "metadata": {},
     "output_type": "execute_result"
    }
   ],
   "source": [
    "train.sample(3)"
   ]
  },
  {
   "cell_type": "code",
   "execution_count": 6,
   "id": "flying-guest",
   "metadata": {},
   "outputs": [
    {
     "data": {
      "text/html": [
       "<div>\n",
       "<style scoped>\n",
       "    .dataframe tbody tr th:only-of-type {\n",
       "        vertical-align: middle;\n",
       "    }\n",
       "\n",
       "    .dataframe tbody tr th {\n",
       "        vertical-align: top;\n",
       "    }\n",
       "\n",
       "    .dataframe thead th {\n",
       "        text-align: right;\n",
       "    }\n",
       "</style>\n",
       "<table border=\"1\" class=\"dataframe\">\n",
       "  <thead>\n",
       "    <tr style=\"text-align: right;\">\n",
       "      <th></th>\n",
       "      <th>ID</th>\n",
       "      <th>Gender</th>\n",
       "      <th>DOB</th>\n",
       "      <th>Lead_Creation_Date</th>\n",
       "      <th>City_Code</th>\n",
       "      <th>City_Category</th>\n",
       "      <th>Employer_Code</th>\n",
       "      <th>Employer_Category1</th>\n",
       "      <th>Employer_Category2</th>\n",
       "      <th>Monthly_Income</th>\n",
       "      <th>...</th>\n",
       "      <th>Primary_Bank_Type</th>\n",
       "      <th>Contacted</th>\n",
       "      <th>Source</th>\n",
       "      <th>Source_Category</th>\n",
       "      <th>Existing_EMI</th>\n",
       "      <th>Loan_Amount</th>\n",
       "      <th>Loan_Period</th>\n",
       "      <th>Interest_Rate</th>\n",
       "      <th>EMI</th>\n",
       "      <th>Var1</th>\n",
       "    </tr>\n",
       "  </thead>\n",
       "  <tbody>\n",
       "    <tr>\n",
       "      <th>21861</th>\n",
       "      <td>APPU30038923226</td>\n",
       "      <td>Male</td>\n",
       "      <td>17/03/86</td>\n",
       "      <td>02/09/16</td>\n",
       "      <td>C10007</td>\n",
       "      <td>A</td>\n",
       "      <td>COM0015820</td>\n",
       "      <td>A</td>\n",
       "      <td>4.0</td>\n",
       "      <td>1600.0</td>\n",
       "      <td>...</td>\n",
       "      <td>NaN</td>\n",
       "      <td>Y</td>\n",
       "      <td>S122</td>\n",
       "      <td>G</td>\n",
       "      <td>0.0</td>\n",
       "      <td>NaN</td>\n",
       "      <td>NaN</td>\n",
       "      <td>NaN</td>\n",
       "      <td>NaN</td>\n",
       "      <td>2</td>\n",
       "    </tr>\n",
       "    <tr>\n",
       "      <th>9998</th>\n",
       "      <td>APPV20184945929</td>\n",
       "      <td>Female</td>\n",
       "      <td>11/08/81</td>\n",
       "      <td>15/07/16</td>\n",
       "      <td>C10059</td>\n",
       "      <td>B</td>\n",
       "      <td>COM0022609</td>\n",
       "      <td>A</td>\n",
       "      <td>4.0</td>\n",
       "      <td>3300.0</td>\n",
       "      <td>...</td>\n",
       "      <td>G</td>\n",
       "      <td>N</td>\n",
       "      <td>S133</td>\n",
       "      <td>B</td>\n",
       "      <td>0.0</td>\n",
       "      <td>NaN</td>\n",
       "      <td>NaN</td>\n",
       "      <td>NaN</td>\n",
       "      <td>NaN</td>\n",
       "      <td>7</td>\n",
       "    </tr>\n",
       "    <tr>\n",
       "      <th>14084</th>\n",
       "      <td>APPD60127237945</td>\n",
       "      <td>Male</td>\n",
       "      <td>30/12/85</td>\n",
       "      <td>01/08/16</td>\n",
       "      <td>C10004</td>\n",
       "      <td>A</td>\n",
       "      <td>COM0001250</td>\n",
       "      <td>B</td>\n",
       "      <td>4.0</td>\n",
       "      <td>3450.0</td>\n",
       "      <td>...</td>\n",
       "      <td>G</td>\n",
       "      <td>Y</td>\n",
       "      <td>S133</td>\n",
       "      <td>B</td>\n",
       "      <td>0.0</td>\n",
       "      <td>10000.0</td>\n",
       "      <td>3.0</td>\n",
       "      <td>NaN</td>\n",
       "      <td>NaN</td>\n",
       "      <td>10</td>\n",
       "    </tr>\n",
       "  </tbody>\n",
       "</table>\n",
       "<p>3 rows × 21 columns</p>\n",
       "</div>"
      ],
      "text/plain": [
       "                    ID  Gender       DOB Lead_Creation_Date City_Code  \\\n",
       "21861  APPU30038923226    Male  17/03/86           02/09/16    C10007   \n",
       "9998   APPV20184945929  Female  11/08/81           15/07/16    C10059   \n",
       "14084  APPD60127237945    Male  30/12/85           01/08/16    C10004   \n",
       "\n",
       "      City_Category Employer_Code Employer_Category1  Employer_Category2  \\\n",
       "21861             A    COM0015820                  A                 4.0   \n",
       "9998              B    COM0022609                  A                 4.0   \n",
       "14084             A    COM0001250                  B                 4.0   \n",
       "\n",
       "       Monthly_Income  ... Primary_Bank_Type Contacted Source Source_Category  \\\n",
       "21861          1600.0  ...               NaN         Y   S122               G   \n",
       "9998           3300.0  ...                 G         N   S133               B   \n",
       "14084          3450.0  ...                 G         Y   S133               B   \n",
       "\n",
       "      Existing_EMI  Loan_Amount  Loan_Period  Interest_Rate  EMI  Var1  \n",
       "21861          0.0          NaN          NaN            NaN  NaN     2  \n",
       "9998           0.0          NaN          NaN            NaN  NaN     7  \n",
       "14084          0.0      10000.0          3.0            NaN  NaN    10  \n",
       "\n",
       "[3 rows x 21 columns]"
      ]
     },
     "execution_count": 6,
     "metadata": {},
     "output_type": "execute_result"
    }
   ],
   "source": [
    "test.sample(3)"
   ]
  },
  {
   "cell_type": "markdown",
   "id": "laughing-indication",
   "metadata": {},
   "source": [
    "**target and features**"
   ]
  },
  {
   "cell_type": "markdown",
   "id": "exciting-biodiversity",
   "metadata": {},
   "source": [
    "- Our target is the column **Approved** from the train table: it consists of 0 if the loan default exist and the loan is not approved and 1 if not.\n",
    "- The remaining columns 21 will be considered as features and after a statistical analysis we will selected only the best ones."
   ]
  },
  {
   "cell_type": "markdown",
   "id": "wireless-vietnam",
   "metadata": {},
   "source": [
    "**size and shape**"
   ]
  },
  {
   "cell_type": "code",
   "execution_count": 7,
   "id": "computational-brooklyn",
   "metadata": {},
   "outputs": [
    {
     "data": {
      "text/plain": [
       "(69713, 22)"
      ]
     },
     "execution_count": 7,
     "metadata": {},
     "output_type": "execute_result"
    }
   ],
   "source": [
    "train.shape"
   ]
  },
  {
   "cell_type": "code",
   "execution_count": 8,
   "id": "digital-toner",
   "metadata": {},
   "outputs": [
    {
     "data": {
      "text/plain": [
       "(30037, 21)"
      ]
     },
     "execution_count": 8,
     "metadata": {},
     "output_type": "execute_result"
    }
   ],
   "source": [
    "test.shape"
   ]
  },
  {
   "cell_type": "markdown",
   "id": "written-civilian",
   "metadata": {},
   "source": [
    "> Let us perform all our operation on train data and create a modular code for the test dataset and futures tests "
   ]
  },
  {
   "cell_type": "markdown",
   "id": "educational-rolling",
   "metadata": {},
   "source": [
    "**missing values and types of columns**"
   ]
  },
  {
   "cell_type": "code",
   "execution_count": 9,
   "id": "union-istanbul",
   "metadata": {},
   "outputs": [
    {
     "name": "stdout",
     "output_type": "stream",
     "text": [
      "<class 'pandas.core.frame.DataFrame'>\n",
      "RangeIndex: 69713 entries, 0 to 69712\n",
      "Data columns (total 22 columns):\n",
      " #   Column                               Non-Null Count  Dtype  \n",
      "---  ------                               --------------  -----  \n",
      " 0   ID                                   69713 non-null  object \n",
      " 1   Gender                               69713 non-null  object \n",
      " 2   DOB                                  69698 non-null  object \n",
      " 3   Lead_Creation_Date                   69713 non-null  object \n",
      " 4   City_Code                            68899 non-null  object \n",
      " 5   City_Category                        68899 non-null  object \n",
      " 6   Employer_Code                        65695 non-null  object \n",
      " 7   Employer_Category1                   65695 non-null  object \n",
      " 8   Employer_Category2                   65415 non-null  float64\n",
      " 9   Monthly_Income                       69713 non-null  float64\n",
      " 10  Customer_Existing_Primary_Bank_Code  60322 non-null  object \n",
      " 11  Primary_Bank_Type                    60322 non-null  object \n",
      " 12  Contacted                            69713 non-null  object \n",
      " 13  Source                               69713 non-null  object \n",
      " 14  Source_Category                      69713 non-null  object \n",
      " 15  Existing_EMI                         69662 non-null  float64\n",
      " 16  Loan_Amount                          42004 non-null  float64\n",
      " 17  Loan_Period                          42004 non-null  float64\n",
      " 18  Interest_Rate                        22276 non-null  float64\n",
      " 19  EMI                                  22276 non-null  float64\n",
      " 20  Var1                                 69713 non-null  int64  \n",
      " 21  Approved                             69713 non-null  int64  \n",
      "dtypes: float64(7), int64(2), object(13)\n",
      "memory usage: 11.7+ MB\n"
     ]
    }
   ],
   "source": [
    "train.info()"
   ]
  },
  {
   "cell_type": "markdown",
   "id": "bearing-physics",
   "metadata": {},
   "source": [
    "> This helps us understand the data columns: 22\n",
    ">- the DOB and Lead_creation_date are in wrong format : they should be datetime\n",
    ">- Multiple columns have null values even if we are lucky to have all our target."
   ]
  },
  {
   "cell_type": "markdown",
   "id": "changed-mining",
   "metadata": {},
   "source": [
    "**number of unique values**"
   ]
  },
  {
   "cell_type": "code",
   "execution_count": 10,
   "id": "appointed-cambridge",
   "metadata": {},
   "outputs": [
    {
     "data": {
      "text/plain": [
       "Approved                                   2\n",
       "Gender                                     2\n",
       "Contacted                                  2\n",
       "Primary_Bank_Type                          2\n",
       "City_Category                              3\n",
       "Employer_Category1                         3\n",
       "Employer_Category2                         4\n",
       "Var1                                       5\n",
       "Loan_Period                                6\n",
       "Source_Category                            7\n",
       "Source                                    29\n",
       "Customer_Existing_Primary_Bank_Code       57\n",
       "Interest_Rate                             72\n",
       "Lead_Creation_Date                        92\n",
       "Loan_Amount                              196\n",
       "City_Code                                678\n",
       "EMI                                     2179\n",
       "Existing_EMI                            3245\n",
       "Monthly_Income                          5010\n",
       "DOB                                    10759\n",
       "Employer_Code                          36617\n",
       "ID                                     69713\n",
       "dtype: int64"
      ]
     },
     "execution_count": 10,
     "metadata": {},
     "output_type": "execute_result"
    }
   ],
   "source": [
    "train.nunique().sort_values()"
   ]
  },
  {
   "cell_type": "markdown",
   "id": "premium-oriental",
   "metadata": {},
   "source": [
    "> We can observe that almost all variable are Categorical because they have less unique values"
   ]
  },
  {
   "cell_type": "markdown",
   "id": "juvenile-syndication",
   "metadata": {},
   "source": [
    "## Data Cleaning"
   ]
  },
  {
   "cell_type": "markdown",
   "id": "coated-demonstration",
   "metadata": {},
   "source": [
    "**mistype**"
   ]
  },
  {
   "cell_type": "code",
   "execution_count": 11,
   "id": "violent-leave",
   "metadata": {},
   "outputs": [],
   "source": [
    "# Changing DOB and lead creation date to the appropriate type\n",
    "def handle_datetime(data):\n",
    "    data.DOB = data.DOB.astype('datetime64')\n",
    "    data.Lead_Creation_Date = data.Lead_Creation_Date.astype('datetime64')\n",
    "    return data"
   ]
  },
  {
   "cell_type": "code",
   "execution_count": 12,
   "id": "still-fiber",
   "metadata": {},
   "outputs": [],
   "source": [
    "clean_train = handle_datetime(train)"
   ]
  },
  {
   "cell_type": "markdown",
   "id": "accepted-catering",
   "metadata": {},
   "source": [
    "> we could have parsed those columns to datetime while reading with pandas."
   ]
  },
  {
   "cell_type": "markdown",
   "id": "mature-patch",
   "metadata": {},
   "source": [
    "**missing values**"
   ]
  },
  {
   "cell_type": "code",
   "execution_count": 13,
   "id": "beautiful-flight",
   "metadata": {},
   "outputs": [
    {
     "data": {
      "text/html": [
       "<div>\n",
       "<style scoped>\n",
       "    .dataframe tbody tr th:only-of-type {\n",
       "        vertical-align: middle;\n",
       "    }\n",
       "\n",
       "    .dataframe tbody tr th {\n",
       "        vertical-align: top;\n",
       "    }\n",
       "\n",
       "    .dataframe thead th {\n",
       "        text-align: right;\n",
       "    }\n",
       "</style>\n",
       "<table border=\"1\" class=\"dataframe\">\n",
       "  <thead>\n",
       "    <tr style=\"text-align: right;\">\n",
       "      <th></th>\n",
       "      <th>count</th>\n",
       "      <th>percentage</th>\n",
       "    </tr>\n",
       "  </thead>\n",
       "  <tbody>\n",
       "    <tr>\n",
       "      <th>ID</th>\n",
       "      <td>0</td>\n",
       "      <td>0.000000</td>\n",
       "    </tr>\n",
       "    <tr>\n",
       "      <th>Source_Category</th>\n",
       "      <td>0</td>\n",
       "      <td>0.000000</td>\n",
       "    </tr>\n",
       "    <tr>\n",
       "      <th>Source</th>\n",
       "      <td>0</td>\n",
       "      <td>0.000000</td>\n",
       "    </tr>\n",
       "    <tr>\n",
       "      <th>Contacted</th>\n",
       "      <td>0</td>\n",
       "      <td>0.000000</td>\n",
       "    </tr>\n",
       "    <tr>\n",
       "      <th>Var1</th>\n",
       "      <td>0</td>\n",
       "      <td>0.000000</td>\n",
       "    </tr>\n",
       "    <tr>\n",
       "      <th>Monthly_Income</th>\n",
       "      <td>0</td>\n",
       "      <td>0.000000</td>\n",
       "    </tr>\n",
       "    <tr>\n",
       "      <th>Approved</th>\n",
       "      <td>0</td>\n",
       "      <td>0.000000</td>\n",
       "    </tr>\n",
       "    <tr>\n",
       "      <th>Lead_Creation_Date</th>\n",
       "      <td>0</td>\n",
       "      <td>0.000000</td>\n",
       "    </tr>\n",
       "    <tr>\n",
       "      <th>Gender</th>\n",
       "      <td>0</td>\n",
       "      <td>0.000000</td>\n",
       "    </tr>\n",
       "    <tr>\n",
       "      <th>DOB</th>\n",
       "      <td>15</td>\n",
       "      <td>0.000215</td>\n",
       "    </tr>\n",
       "    <tr>\n",
       "      <th>Existing_EMI</th>\n",
       "      <td>51</td>\n",
       "      <td>0.000732</td>\n",
       "    </tr>\n",
       "    <tr>\n",
       "      <th>City_Category</th>\n",
       "      <td>814</td>\n",
       "      <td>0.011676</td>\n",
       "    </tr>\n",
       "    <tr>\n",
       "      <th>City_Code</th>\n",
       "      <td>814</td>\n",
       "      <td>0.011676</td>\n",
       "    </tr>\n",
       "    <tr>\n",
       "      <th>Employer_Category1</th>\n",
       "      <td>4018</td>\n",
       "      <td>0.057636</td>\n",
       "    </tr>\n",
       "    <tr>\n",
       "      <th>Employer_Code</th>\n",
       "      <td>4018</td>\n",
       "      <td>0.057636</td>\n",
       "    </tr>\n",
       "    <tr>\n",
       "      <th>Employer_Category2</th>\n",
       "      <td>4298</td>\n",
       "      <td>0.061653</td>\n",
       "    </tr>\n",
       "    <tr>\n",
       "      <th>Primary_Bank_Type</th>\n",
       "      <td>9391</td>\n",
       "      <td>0.134709</td>\n",
       "    </tr>\n",
       "    <tr>\n",
       "      <th>Customer_Existing_Primary_Bank_Code</th>\n",
       "      <td>9391</td>\n",
       "      <td>0.134709</td>\n",
       "    </tr>\n",
       "    <tr>\n",
       "      <th>Loan_Amount</th>\n",
       "      <td>27709</td>\n",
       "      <td>0.397472</td>\n",
       "    </tr>\n",
       "    <tr>\n",
       "      <th>Loan_Period</th>\n",
       "      <td>27709</td>\n",
       "      <td>0.397472</td>\n",
       "    </tr>\n",
       "    <tr>\n",
       "      <th>Interest_Rate</th>\n",
       "      <td>47437</td>\n",
       "      <td>0.680461</td>\n",
       "    </tr>\n",
       "    <tr>\n",
       "      <th>EMI</th>\n",
       "      <td>47437</td>\n",
       "      <td>0.680461</td>\n",
       "    </tr>\n",
       "  </tbody>\n",
       "</table>\n",
       "</div>"
      ],
      "text/plain": [
       "                                     count  percentage\n",
       "ID                                       0    0.000000\n",
       "Source_Category                          0    0.000000\n",
       "Source                                   0    0.000000\n",
       "Contacted                                0    0.000000\n",
       "Var1                                     0    0.000000\n",
       "Monthly_Income                           0    0.000000\n",
       "Approved                                 0    0.000000\n",
       "Lead_Creation_Date                       0    0.000000\n",
       "Gender                                   0    0.000000\n",
       "DOB                                     15    0.000215\n",
       "Existing_EMI                            51    0.000732\n",
       "City_Category                          814    0.011676\n",
       "City_Code                              814    0.011676\n",
       "Employer_Category1                    4018    0.057636\n",
       "Employer_Code                         4018    0.057636\n",
       "Employer_Category2                    4298    0.061653\n",
       "Primary_Bank_Type                     9391    0.134709\n",
       "Customer_Existing_Primary_Bank_Code   9391    0.134709\n",
       "Loan_Amount                          27709    0.397472\n",
       "Loan_Period                          27709    0.397472\n",
       "Interest_Rate                        47437    0.680461\n",
       "EMI                                  47437    0.680461"
      ]
     },
     "execution_count": 13,
     "metadata": {},
     "output_type": "execute_result"
    }
   ],
   "source": [
    "pd.concat([train.isnull().sum().sort_values(),train.isnull().sum().sort_values()/train.shape[0]], axis=1)\\\n",
    "                        .rename(columns={0:'count', 1:'percentage'})"
   ]
  },
  {
   "cell_type": "markdown",
   "id": "pressing-airfare",
   "metadata": {},
   "source": [
    "train.Existing_EMI"
   ]
  },
  {
   "cell_type": "markdown",
   "id": "infectious-chase",
   "metadata": {},
   "source": [
    "Our first strategy is to keep all the observation.\n",
    "- For the missing date of birth we will first convert the date to age and then use the median to replace the null value.\n",
    "- Since most of those columns are categorical, we will create a category \"unknown\" where the value is missing.\n",
    "- For numerical columns ( Loan Amount, load period, interest rate, existing EMI and EMI ) , we will use different approach. We will assume that if there is no load amount/ period then it is 0 there and the client doesn't have any loan"
   ]
  },
  {
   "cell_type": "code",
   "execution_count": 14,
   "id": "external-warner",
   "metadata": {},
   "outputs": [],
   "source": [
    "from datetime import date\n",
    "\n",
    "def handle_missing_val(data):\n",
    "    #categorical\n",
    "    \n",
    "    # First let us create age columns instead of DOB so that we can replace by median\n",
    "    data['age'] = data.DOB.apply(lambda x : date.today().year - x.year)\n",
    "    #todo create a column for lead creation date age!!!!!\n",
    "    # drop the DOB columns\n",
    "    data = data.drop(columns='DOB')\n",
    "    # Replacing the missing age with median\n",
    "    data['age'] = data.age.fillna(data.age.median())\n",
    "    \n",
    "    # Replacing the other cat value with \"unknown\"\n",
    "    cols_cat = ['City_Category', 'City_Code', 'Employer_Category1',\n",
    "          'Employer_Code', 'Employer_Category2', 'Primary_Bank_Type',\n",
    "          'Customer_Existing_Primary_Bank_Code']\n",
    "    data[cols_cat] = data[cols_cat].fillna(\"unknown\")\n",
    "    \n",
    "    # Now handle the num cols\n",
    "    cols_num = ['Existing_EMI', 'Loan_Amount', 'Loan_Period', 'Interest_Rate', 'EMI']\n",
    "    data[cols_num] = data[cols_num].fillna(0)\n",
    "    \n",
    "    return data"
   ]
  },
  {
   "cell_type": "code",
   "execution_count": 15,
   "id": "deadly-operation",
   "metadata": {},
   "outputs": [],
   "source": [
    "clean_train = handle_missing_val(clean_train)"
   ]
  },
  {
   "cell_type": "code",
   "execution_count": 16,
   "id": "instructional-roads",
   "metadata": {},
   "outputs": [
    {
     "data": {
      "text/plain": [
       "ID                                     0\n",
       "Gender                                 0\n",
       "Lead_Creation_Date                     0\n",
       "City_Code                              0\n",
       "City_Category                          0\n",
       "Employer_Code                          0\n",
       "Employer_Category1                     0\n",
       "Employer_Category2                     0\n",
       "Monthly_Income                         0\n",
       "Customer_Existing_Primary_Bank_Code    0\n",
       "Primary_Bank_Type                      0\n",
       "Contacted                              0\n",
       "Source                                 0\n",
       "Source_Category                        0\n",
       "Existing_EMI                           0\n",
       "Loan_Amount                            0\n",
       "Loan_Period                            0\n",
       "Interest_Rate                          0\n",
       "EMI                                    0\n",
       "Var1                                   0\n",
       "Approved                               0\n",
       "age                                    0\n",
       "dtype: int64"
      ]
     },
     "execution_count": 16,
     "metadata": {},
     "output_type": "execute_result"
    }
   ],
   "source": [
    "clean_train.isnull().sum()"
   ]
  },
  {
   "cell_type": "code",
   "execution_count": 24,
   "id": "plain-japanese",
   "metadata": {},
   "outputs": [],
   "source": [
    "# save the data\n",
    "# clean_train.to_csv(data_dir/'clean_train.csv', index=False)"
   ]
  },
  {
   "cell_type": "markdown",
   "id": "helpful-christmas",
   "metadata": {},
   "source": [
    "# EDA"
   ]
  },
  {
   "cell_type": "markdown",
   "id": "worthy-singapore",
   "metadata": {},
   "source": [
    "## Feature distributions"
   ]
  },
  {
   "cell_type": "markdown",
   "id": "needed-disease",
   "metadata": {},
   "source": [
    "> We will display only for relevant columns. Id columns for example seems not relevant for example"
   ]
  },
  {
   "cell_type": "code",
   "execution_count": 23,
   "id": "alpha-equipment",
   "metadata": {},
   "outputs": [],
   "source": [
    "feature_list = clean_train.drop(columns='Approved').columns\n",
    "target = ['Approved']\n",
    "\n",
    "cat_cols = ['Gender', 'Lead_Creation_Date', 'City_Code', 'City_Category',\n",
    "       'Employer_Code', 'Employer_Category1', 'Employer_Category2',\n",
    "       'Customer_Existing_Primary_Bank_Code',\n",
    "       'Primary_Bank_Type', 'Contacted', 'Source', 'Source_Category',\n",
    "       'Var1']\n",
    "num_cols = ['Monthly_Income', \n",
    "       'Existing_EMI', 'Loan_Amount', 'Loan_Period', 'Interest_Rate', 'EMI',\n",
    "        'age']"
   ]
  },
  {
   "cell_type": "markdown",
   "id": "likely-thomas",
   "metadata": {},
   "source": [
    "**Histograms of the categorical features:**"
   ]
  },
  {
   "cell_type": "markdown",
   "id": "hungarian-world",
   "metadata": {},
   "source": [
    "**Histograms of the numerical features:**"
   ]
  },
  {
   "cell_type": "markdown",
   "id": "conditional-courage",
   "metadata": {},
   "source": [
    "## Target distribution"
   ]
  },
  {
   "cell_type": "markdown",
   "id": "analyzed-postcard",
   "metadata": {},
   "source": [
    "## Relations : Features multicollinearity, relation between target and features"
   ]
  },
  {
   "cell_type": "code",
   "execution_count": null,
   "id": "advanced-range",
   "metadata": {},
   "outputs": [],
   "source": [
    "fig, axs = plt.subplots(len(cat_cols), 1, figsize=(17,3), dpi= 80)\n",
    "\n",
    "for i_feature, feature in enumerate(cat_cols):\n",
    "    \n",
    "    for i_loan_approval, loan_approval in enumerate([0, 1]):\n",
    "        clean_train[cat_cols][clean_train[target]==loan_approval].plot(kind='density', label=loan_approval, c=['red', 'green'][i_loan_approval], ax=axs[i_feature])\n",
    "    \n",
    "    axs[i_feature].set_xlabel(cat_cols[i_feature])\n",
    "    axs[i_feature].legend(title='Loan Approval')\n",
    "    \n",
    "plt.show()   "
   ]
  },
  {
   "cell_type": "code",
   "execution_count": null,
   "id": "brutal-night",
   "metadata": {},
   "outputs": [],
   "source": []
  }
 ],
 "metadata": {
  "kernelspec": {
   "display_name": "Python 3",
   "language": "python",
   "name": "python3"
  },
  "language_info": {
   "codemirror_mode": {
    "name": "ipython",
    "version": 3
   },
   "file_extension": ".py",
   "mimetype": "text/x-python",
   "name": "python",
   "nbconvert_exporter": "python",
   "pygments_lexer": "ipython3",
   "version": "3.9.2"
  }
 },
 "nbformat": 4,
 "nbformat_minor": 5
}
